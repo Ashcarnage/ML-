{
 "cells": [
  {
   "cell_type": "code",
   "execution_count": 1,
   "metadata": {},
   "outputs": [],
   "source": [
    "import pandas as pd\n",
    "import numpy as np\n",
    "data = {\n",
    "    'Patient_ID': range(1,11),\n",
    "    'Age': [30,45,50,35,60,55,40,25,65,45],\n",
    "    'Blood_Pressure': ['High','Low','High','Low','High','Low','High','Low','High','Low'],\n",
    "    'Cholesterol': ['High','Normal','High','Normal','High','Normal','High','Normal','High','Normal'],\n",
    "    'Diagnosis': ['Sick','Healthy','Sick','Healthy','Sick','Healthy','Sick','Healthy','Sick','Healthy']\n",
    "}\n",
    "df = pd.DataFrame(data)"
   ]
  },
  {
   "cell_type": "code",
   "execution_count": 2,
   "metadata": {},
   "outputs": [],
   "source": [
    "class Node:\n",
    "    def __init__(self, feature = None, threshold=None, left = None, right = None, value = None):\n",
    "        self.feature = feature\n",
    "        self.threshold = threshold\n",
    "        self.left = left\n",
    "        self.right = right\n",
    "        self.value = value\n",
    "\n",
    "def calculate_entropy(y):\n",
    "    classes = np.unique(y)\n",
    "    entropy = 0\n",
    "    for c in classes:\n",
    "        p= len(y[y==c])/len(y)\n",
    "        entropy -= p*np.log2(p) if p>0 else 0\n",
    "    return entropy\n",
    "\n",
    "def information_gain(y,X_feature):\n",
    "    parent_entropy = calculate_entropy(y)\n",
    "    # Calculate the weighted entropy of the children\n",
    "    values = np.unique(X_feature)\n",
    "    weighted_entropy = 0\n",
    "    for value in values:\n",
    "        mask = X_feature == value\n",
    "        child_entropy = calculate_entropy(y[mask])\n",
    "        weight = len(y[mask])/len(y)\n",
    "        weighted_entropy+=weight*child_entropy\n",
    "    return parent_entropy- weighted_entropy\n",
    "\n"
   ]
  },
  {
   "cell_type": "code",
   "execution_count": 7,
   "metadata": {},
   "outputs": [],
   "source": [
    "def build_tree(X,y):\n",
    "    if len(np.unique(y))==1:\n",
    "        # return Node(value = y[0])\n",
    "        return Node(value=y.iloc[0])\n",
    "    gains = [(col,information_gain(y,X[col]))for col in X.columns]\n",
    "    best_feature = max(gains,key = lambda x:x[1])[0]\n",
    "    node = Node(feature = best_feature)\n",
    "\n",
    "    for value in [0,1]:\n",
    "        mask  = X[best_feature]==value\n",
    "        if len(X[mask])>0:\n",
    "            child = build_tree(X[mask].drop(best_feature,axis=1),y[mask])\n",
    "            if value == 0:\n",
    "                node.left = child\n",
    "            else:\n",
    "                node.right = child\n",
    "    return node\n",
    "def predict(node,x):\n",
    "    if node.value is not None:\n",
    "        return node.value\n",
    "    return predict(node.left,x) if x[node.feature]==0 else predict(node.right,x)"
   ]
  },
  {
   "cell_type": "code",
   "execution_count": 8,
   "metadata": {},
   "outputs": [
    {
     "name": "stdout",
     "output_type": "stream",
     "text": [
      "Prediction: Sick\n"
     ]
    }
   ],
   "source": [
    "# Example usage\n",
    "data = {\n",
    "    'Blood_Pressure': [1,0,1,0,1,0,1,0,1,0],  # High=1, Low=0\n",
    "    'Cholesterol': [1,0,1,0,1,0,1,0,1,0],     # High=1, Normal=0\n",
    "    'Diagnosis': [1,0,1,0,1,0,1,0,1,0]        # Sick=1, Healthy=0\n",
    "}\n",
    "df = pd.DataFrame(data)\n",
    "\n",
    "X = df.drop('Diagnosis', axis=1)\n",
    "y = df['Diagnosis']\n",
    "\n",
    "tree = build_tree(X, y)\n",
    "test_case = pd.Series({'Blood_Pressure': 1, 'Cholesterol': 1})\n",
    "prediction = predict(tree, test_case)\n",
    "print(f\"Prediction: {'Sick' if prediction == 1 else 'Healthy'}\")"
   ]
  }
 ],
 "metadata": {
  "kernelspec": {
   "display_name": "venv",
   "language": "python",
   "name": "python3"
  },
  "language_info": {
   "codemirror_mode": {
    "name": "ipython",
    "version": 3
   },
   "file_extension": ".py",
   "mimetype": "text/x-python",
   "name": "python",
   "nbconvert_exporter": "python",
   "pygments_lexer": "ipython3",
   "version": "3.9.6"
  }
 },
 "nbformat": 4,
 "nbformat_minor": 2
}
