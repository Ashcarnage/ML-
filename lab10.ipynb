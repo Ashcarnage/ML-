{
 "cells": [
  {
   "cell_type": "code",
   "execution_count": 11,
   "metadata": {},
   "outputs": [
    {
     "name": "stdout",
     "output_type": "stream",
     "text": [
      "[[18.  3. 15.]\n",
      " [19.  4. 14.]\n",
      " [14.  5. 10.]\n",
      " [14.  4.  8.]\n",
      " [11.  7. 14.]\n",
      " [20.  8. 13.]\n",
      " [28.  7.  9.]\n",
      " [30.  6.  5.]\n",
      " [31.  9.  4.]\n",
      " [35. 12. 11.]\n",
      " [33. 14.  6.]\n",
      " [25.  9.  5.]\n",
      " [25.  4.  3.]\n",
      " [27.  3.  8.]\n",
      " [29.  4. 12.]\n",
      " [30. 12.  7.]\n",
      " [19. 15.  6.]\n",
      " [23. 11.  5.]]\n"
     ]
    }
   ],
   "source": [
    "import pandas as pd\n",
    "import numpy as np\n",
    "import csv\n",
    "import matplotlib.pyplot as plt\n",
    "from mpl_toolkits.mplot3d import Axes3D\n",
    "\n",
    "# Load the dataset\n",
    "data = pd.read_csv(\"kmeans_Q1.csv\")\n",
    "# fig = plt.figure()\n",
    "# ax = fig.add_subplot(111,projection='3d')\n",
    "# ax.scatter(data['Points'],data['Assists'],data['Rebounds'],color='b')\n",
    "\n",
    "# ax.set_xlabel('Points')\n",
    "# ax.set_ylabel('Assists')\n",
    "# ax.set_zlabel('Rebounds')\n",
    "print(np.array(data))\n",
    "\n",
    "\n"
   ]
  },
  {
   "cell_type": "code",
   "execution_count": 10,
   "metadata": {},
   "outputs": [
    {
     "name": "stdout",
     "output_type": "stream",
     "text": [
      "[18. 19. 14. 14. 11. 20. 28. 30. 31. 35. 33. 25. 25. 27. 29. 30. 19. 23.]\n",
      "[ 3.  4.  5.  4.  7.  8.  7.  6.  9. 12. 14.  9.  4.  3.  4. 12. 15. 11.]\n"
     ]
    }
   ],
   "source": [
    "class KMeansModel():\n",
    "    def __init__(self,data,k_max):\n",
    "        self.data = data\n",
    "        self.k_max = k_max\n",
    "        self.history = []\n",
    "    def fit(self):\n",
    "        for k in range(2,self.k_max+1):\n",
    "            pass\n",
    "    def initialize_centroid(self,k):\n",
    "        return self.data[np.random.choice(self.data.shape[0],k,replace=False)] \n",
    "    def assign_labels(self, centroids):\n",
    "        \n",
    "    \n",
    "\n",
    "\n",
    "\n",
    "model = KMeansModel(data)"
   ]
  }
 ],
 "metadata": {
  "kernelspec": {
   "display_name": "Python 3",
   "language": "python",
   "name": "python3"
  },
  "language_info": {
   "codemirror_mode": {
    "name": "ipython",
    "version": 3
   },
   "file_extension": ".py",
   "mimetype": "text/x-python",
   "name": "python",
   "nbconvert_exporter": "python",
   "pygments_lexer": "ipython3",
   "version": "3.12.3"
  }
 },
 "nbformat": 4,
 "nbformat_minor": 2
}
