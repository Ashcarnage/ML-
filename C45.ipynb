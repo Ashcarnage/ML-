{
 "cells": [
  {
   "cell_type": "code",
   "execution_count": 2,
   "metadata": {},
   "outputs": [],
   "source": [
    "import numpy as np\n",
    "import pandas as pd\n",
    "from collections import Counter\n",
    "import matplotlib.pyplot as plt\n",
    "import networkx as nx"
   ]
  },
  {
   "cell_type": "code",
   "execution_count": 3,
   "metadata": {},
   "outputs": [],
   "source": [
    "class Node:\n",
    "    def __init__(self, feature=None, threshold=None, left=None, right=None, value=None, gain_ratio=None):\n",
    "        self.feature = feature\n",
    "        self.threshold = threshold\n",
    "        self.left = left\n",
    "        self.right = right\n",
    "        self.value = value\n",
    "        self.gain_ratio = gain_ratio"
   ]
  },
  {
   "cell_type": "code",
   "execution_count": 4,
   "metadata": {},
   "outputs": [],
   "source": [
    "class C45DecisionTree:\n",
    "    def __init__(self, min_samples_split=2, max_depth=None):\n",
    "        self.min_samples_split = min_samples_split\n",
    "        self.max_depth = max_depth\n",
    "        self.root = None\n",
    "    def entropy(self,y):\n",
    "        classes,counts= np.unique(y,return_counts = True)\n",
    "        probs = counts/len(y)\n",
    "        return -np.sum([p*np.log2(p) if p>0 else 0 for p in probs])\n",
    "    def split_info(self, X, feature):\n",
    "        unique_values, counts = np.unique(X[feature], return_counts=True)\n",
    "        probabilities = counts / len(X)\n",
    "        return -np.sum([p * np.log2(p) for p in probabilities if p > 0])\n",
    "    def information_gain_ratio(self, X,y, feature):\n",
    "        parent_entropy = self.entropy(y)\n",
    "        weighted_entropy = 0\n",
    "        values = np.unique(X[feature])\n",
    "        for value in values:\n",
    "            mask = X[feature] == value\n",
    "            child = y[mask]\n",
    "            weight = len(child)/len(y)\n",
    "            weighted_entropy+=weight*self.entropy(child)\n",
    "        split_info = self.split_info(X,feature)\n",
    "        info_gain = parent_entropy-weighted_entropy\n",
    "        if split_info==0:\n",
    "            return 0\n",
    "        return info_gain/split_info\n",
    "    def build_tree(self,X,y):\n",
    "        if len(np.unique(y))==1:\n",
    "            return Node(value=y.iloc[0])\n",
    "        gain_ratio = [(col , self.information_gain_ratio(X,y,col))for col in X.columns]\n",
    "        best_feature = max(gain_ratio,key = lambda x:x[1])[0]\n",
    "\n",
    "        node = Node(feature=best_feature)\n",
    "        for value in [0,1]:\n",
    "            mask = X[best_feature] == value\n",
    "            if len(X[mask]) > 0:\n",
    "                child = self.build_tree(X[mask].drop(best_feature,axis=1),y[mask])\n",
    "                if value ==0 :\n",
    "                    node.left = child\n",
    "                else:\n",
    "                    node.right = child\n",
    "        return node\n",
    "    def predict(self,node,x):\n",
    "        if node.value is not None:\n",
    "            return node.value\n",
    "        return self.predict(node.left,x) if x[node.feature]==0 else self.predict(node.right,x)\n",
    "    \n",
    "        \n",
    "\n",
    "\n",
    "\n",
    "\n",
    "\n"
   ]
  },
  {
   "cell_type": "code",
   "execution_count": 14,
   "metadata": {},
   "outputs": [
    {
     "name": "stdout",
     "output_type": "stream",
     "text": [
      "   Patient ID  Age  Blood Pressure  Cholesterol  Diagnosis\n",
      "0           1    0               0            0          1\n",
      "1           2    0               1            1          0\n",
      "2           3    1               0            0          1\n",
      "3           4    0               1            1          0\n",
      "4           5    1               0            0          1\n",
      "5           6    1               1            1          0\n",
      "6           7    0               0            0          1\n",
      "7           8    0               1            1          0\n",
      "8           9    1               0            0          1\n",
      "9          10    0               1            1          0\n",
      "Blood Pressure    1\n",
      "Cholesterol       1\n",
      "dtype: int64\n",
      "Prediction: Sick\n"
     ]
    }
   ],
   "source": [
    "from sklearn.model_selection import train_test_split\n",
    "from sklearn.preprocessing import LabelEncoder\n",
    "# # Example usage\n",
    "# data = {\n",
    "#     'Blood_Pressure': [1,0,1,0,1,0,1,0,1,0],  # High=1, Low=0\n",
    "#     'Cholesterol': [1,0,1,0,1,0,1,0,1,0],     # High=1, Normal=0\n",
    "#     'Diagnosis': [1,0,1,0,1,0,1,0,1,0]        # Sick=1, Healthy=0\n",
    "# }\n",
    "# df = pd.DataFrame(data)\n",
    "df = pd.read_csv(\"/Users/ayushbhakat/Desktop/sem-5/ML/Endsem/decision.csv\")\n",
    "for col in df.columns:\n",
    "    le = LabelEncoder()\n",
    "    if col in ['Blood Pressure','Cholesterol','Diagnosis']:\n",
    "        df[col] = le.fit_transform(df[col])\n",
    "# print(df)\n",
    "df['Age'] = (df['Age'] > 45).astype(int)\n",
    "print(df)\n",
    "X = df.drop('Diagnosis', axis=1)\n",
    "y = df['Diagnosis']\n",
    "\n",
    "model = C45DecisionTree()\n",
    "tree = model.build_tree(X,y)\n",
    "test_case = pd.Series({'Blood Pressure': 1, 'Cholesterol': 1})\n",
    "print(test_case)\n",
    "prediction = model.predict(tree, test_case)\n",
    "print(f\"Prediction: {'Sick' if prediction == 0 else 'Healthy'}\")"
   ]
  }
 ],
 "metadata": {
  "kernelspec": {
   "display_name": "venv",
   "language": "python",
   "name": "python3"
  },
  "language_info": {
   "codemirror_mode": {
    "name": "ipython",
    "version": 3
   },
   "file_extension": ".py",
   "mimetype": "text/x-python",
   "name": "python",
   "nbconvert_exporter": "python",
   "pygments_lexer": "ipython3",
   "version": "3.9.6"
  }
 },
 "nbformat": 4,
 "nbformat_minor": 2
}
