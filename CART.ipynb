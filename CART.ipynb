{
 "cells": [
  {
   "cell_type": "code",
   "execution_count": 1,
   "metadata": {},
   "outputs": [],
   "source": [
    "import pandas as pd\n",
    "import numpy as np\n"
   ]
  },
  {
   "cell_type": "code",
   "execution_count": 2,
   "metadata": {},
   "outputs": [],
   "source": [
    "class Node:\n",
    "    def __init__(self,feature = None, threshold = None, left = None, right = None, value = None):\n",
    "        self.feature = feature\n",
    "        self.left = left\n",
    "        self.right = right\n",
    "        self.value = value\n",
    "    "
   ]
  },
  {
   "cell_type": "code",
   "execution_count": 8,
   "metadata": {},
   "outputs": [],
   "source": [
    "class CARTALGO:\n",
    "    def gini(self,y):\n",
    "        _,count = np.unique(y,return_counts = True)\n",
    "        prob = count/len(y)\n",
    "        return 1 - np.sum(prob*2)\n",
    "    def gini_split(self,X,y,feature):\n",
    "        values= np.unique(X[feature])\n",
    "        ginisplit = 0 \n",
    "        for value in values:\n",
    "            mask = X[feature]==value\n",
    "            child = y[mask]\n",
    "            weight = len(child)/len(y)\n",
    "            ginisplit+=weight*self.gini(child)\n",
    "        return ginisplit\n",
    "    def build_tree(self,X,y):\n",
    "        if len(np.unique(y))==1:\n",
    "            return Node(value = y.iloc[0])\n",
    "        gain = [(col,self.gini_split(X,y,col))for col in X.columns]\n",
    "        best_feature = max(gain,key = lambda x:x[1])[0]\n",
    "        node = Node(feature = best_feature)\n",
    "        for value in [0,1]:\n",
    "            mask = X[best_feature] == value\n",
    "            if len(X[mask])>0:\n",
    "                child = self.build_tree(X[mask].drop(best_feature,axis=1),y[mask])\n",
    "                if value == 0:\n",
    "                    node.left = child\n",
    "                else:\n",
    "                    node.right = child\n",
    "        return node\n",
    "    def predict(self,node,x):\n",
    "        if node.value is not None:\n",
    "            return node.value\n",
    "        return self.predict(node.left,x) if x[node.feature] == 0 else self.predict(node.right,x)\n",
    "\n",
    "            \n",
    "\n",
    "\n",
    "\n"
   ]
  },
  {
   "cell_type": "code",
   "execution_count": 1,
   "metadata": {},
   "outputs": [
    {
     "ename": "NameError",
     "evalue": "name 'pd' is not defined",
     "output_type": "error",
     "traceback": [
      "\u001b[0;31m---------------------------------------------------------------------------\u001b[0m",
      "\u001b[0;31mNameError\u001b[0m                                 Traceback (most recent call last)",
      "Cell \u001b[0;32mIn[1], line 7\u001b[0m\n\u001b[1;32m      1\u001b[0m \u001b[38;5;66;03m# Example usage\u001b[39;00m\n\u001b[1;32m      2\u001b[0m data \u001b[38;5;241m=\u001b[39m {\n\u001b[1;32m      3\u001b[0m     \u001b[38;5;124m'\u001b[39m\u001b[38;5;124mBlood_Pressure\u001b[39m\u001b[38;5;124m'\u001b[39m: [\u001b[38;5;241m1\u001b[39m,\u001b[38;5;241m0\u001b[39m,\u001b[38;5;241m1\u001b[39m,\u001b[38;5;241m0\u001b[39m,\u001b[38;5;241m1\u001b[39m,\u001b[38;5;241m0\u001b[39m,\u001b[38;5;241m1\u001b[39m,\u001b[38;5;241m0\u001b[39m,\u001b[38;5;241m1\u001b[39m,\u001b[38;5;241m0\u001b[39m],  \u001b[38;5;66;03m# High=1, Low=0\u001b[39;00m\n\u001b[1;32m      4\u001b[0m     \u001b[38;5;124m'\u001b[39m\u001b[38;5;124mCholesterol\u001b[39m\u001b[38;5;124m'\u001b[39m: [\u001b[38;5;241m1\u001b[39m,\u001b[38;5;241m0\u001b[39m,\u001b[38;5;241m1\u001b[39m,\u001b[38;5;241m0\u001b[39m,\u001b[38;5;241m1\u001b[39m,\u001b[38;5;241m0\u001b[39m,\u001b[38;5;241m1\u001b[39m,\u001b[38;5;241m0\u001b[39m,\u001b[38;5;241m1\u001b[39m,\u001b[38;5;241m0\u001b[39m],     \u001b[38;5;66;03m# High=1, Normal=0\u001b[39;00m\n\u001b[1;32m      5\u001b[0m     \u001b[38;5;124m'\u001b[39m\u001b[38;5;124mDiagnosis\u001b[39m\u001b[38;5;124m'\u001b[39m: [\u001b[38;5;241m1\u001b[39m,\u001b[38;5;241m0\u001b[39m,\u001b[38;5;241m1\u001b[39m,\u001b[38;5;241m0\u001b[39m,\u001b[38;5;241m1\u001b[39m,\u001b[38;5;241m0\u001b[39m,\u001b[38;5;241m1\u001b[39m,\u001b[38;5;241m0\u001b[39m,\u001b[38;5;241m1\u001b[39m,\u001b[38;5;241m0\u001b[39m]        \u001b[38;5;66;03m# Sick=1, Healthy=0\u001b[39;00m\n\u001b[1;32m      6\u001b[0m }\n\u001b[0;32m----> 7\u001b[0m df \u001b[38;5;241m=\u001b[39m \u001b[43mpd\u001b[49m\u001b[38;5;241m.\u001b[39mDataFrame(data)\n\u001b[1;32m      9\u001b[0m X \u001b[38;5;241m=\u001b[39m df\u001b[38;5;241m.\u001b[39mdrop(\u001b[38;5;124m'\u001b[39m\u001b[38;5;124mDiagnosis\u001b[39m\u001b[38;5;124m'\u001b[39m, axis\u001b[38;5;241m=\u001b[39m\u001b[38;5;241m1\u001b[39m)\n\u001b[1;32m     10\u001b[0m y \u001b[38;5;241m=\u001b[39m df[\u001b[38;5;124m'\u001b[39m\u001b[38;5;124mDiagnosis\u001b[39m\u001b[38;5;124m'\u001b[39m]\n",
      "\u001b[0;31mNameError\u001b[0m: name 'pd' is not defined"
     ]
    }
   ],
   "source": [
    "# Example usage\n",
    "data = {\n",
    "    'Blood_Pressure': [1,0,1,0,1,0,1,0,1,0],  # High=1, Low=0\n",
    "    'Cholesterol': [1,0,1,0,1,0,1,0,1,0],     # High=1, Normal=0\n",
    "    'Diagnosis': [1,0,1,0,1,0,1,0,1,0]        # Sick=1, Healthy=0\n",
    "}\n",
    "df = pd.DataFrame(data)\n",
    "\n",
    "X = df.drop('Diagnosis', axis=1)\n",
    "y = df['Diagnosis']\n",
    "\n",
    "model = CARTALGO()\n",
    "tree = model.build_tree(X,y)\n",
    "test_case = pd.Series({'Blood_Pressure': 1, 'Cholesterol': 1})\n",
    "print(test_case)\n",
    "prediction = model.predict(tree, test_case)\n",
    "print(f\"Prediction: {'Sick' if prediction == 1 else 'Healthy'}\")"
   ]
  }
 ],
 "metadata": {
  "kernelspec": {
   "display_name": "venv",
   "language": "python",
   "name": "python3"
  },
  "language_info": {
   "codemirror_mode": {
    "name": "ipython",
    "version": 3
   },
   "file_extension": ".py",
   "mimetype": "text/x-python",
   "name": "python",
   "nbconvert_exporter": "python",
   "pygments_lexer": "ipython3",
   "version": "3.9.6"
  }
 },
 "nbformat": 4,
 "nbformat_minor": 2
}
